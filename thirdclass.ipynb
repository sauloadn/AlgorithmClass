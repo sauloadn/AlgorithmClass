{
 "cells": [
  {
   "cell_type": "code",
   "execution_count": null,
   "metadata": {},
   "outputs": [],
   "source": []
  },
  {
   "cell_type": "code",
   "execution_count": 2,
   "metadata": {},
   "outputs": [
    {
     "name": "stdout",
     "output_type": "stream",
     "text": [
      "55\n"
     ]
    }
   ],
   "source": [
    "\n",
    "num2 = 12\n",
    "num2 -= 1\n",
    "idade1 = 20\n",
    "\n",
    "\n",
    "idade2 = 35\n",
    "\n",
    "num = 2\n",
    "totalidade =  2*(idade1 + idade2)\n",
    "nome = \"Saulo\"\n",
    "print(totalidade)\n",
    "\n",
    "# ** Exp\n",
    "# // Parte Inteira\n",
    "# % Resto"
   ]
  },
  {
   "cell_type": "code",
   "execution_count": 3,
   "metadata": {},
   "outputs": [
    {
     "name": "stdout",
     "output_type": "stream",
     "text": [
      "-15\n"
     ]
    }
   ],
   "source": [
    "print(idade1 - idade2)\n"
   ]
  },
  {
   "cell_type": "code",
   "execution_count": null,
   "metadata": {},
   "outputs": [],
   "source": [
    "print(idade1 * idade2)\n"
   ]
  },
  {
   "cell_type": "code",
   "execution_count": null,
   "metadata": {},
   "outputs": [],
   "source": [
    "print(idade1 / idade2)"
   ]
  },
  {
   "cell_type": "code",
   "execution_count": 8,
   "metadata": {},
   "outputs": [
    {
     "ename": "SyntaxError",
     "evalue": "invalid syntax. Perhaps you forgot a comma? (1488747471.py, line 1)",
     "output_type": "error",
     "traceback": [
      "\u001b[1;36m  Cell \u001b[1;32mIn [8], line 1\u001b[1;36m\u001b[0m\n\u001b[1;33m    for(int i = 0; i <= exp; i++)\u001b[0m\n\u001b[1;37m        ^\u001b[0m\n\u001b[1;31mSyntaxError\u001b[0m\u001b[1;31m:\u001b[0m invalid syntax. Perhaps you forgot a comma?\n"
     ]
    }
   ],
   "source": [
    "for(int i = 0; i <= exp; i++) {\n",
    "    total *= exp\n",
    "}\n",
    "\n",
    "while()"
   ]
  },
  {
   "cell_type": "code",
   "execution_count": 22,
   "metadata": {},
   "outputs": [
    {
     "name": "stdout",
     "output_type": "stream",
     "text": [
      "Ola Saulo Voce tem \t 20 anos.\n"
     ]
    }
   ],
   "source": [
    "\n",
    "print(\"Ola\", nome ,\"Voce tem \\t\", idade1, 'anos.')"
   ]
  },
  {
   "cell_type": "code",
   "execution_count": 26,
   "metadata": {},
   "outputs": [
    {
     "name": "stdout",
     "output_type": "stream",
     "text": [
      "23\n"
     ]
    }
   ],
   "source": [
    "idade = int(input(\"Digite sua idade\"))\n",
    "\n",
    "print(idade)"
   ]
  },
  {
   "cell_type": "code",
   "execution_count": 28,
   "metadata": {},
   "outputs": [
    {
     "name": "stdout",
     "output_type": "stream",
     "text": [
      "Saulo\n",
      "Meu nome é: Saulo \t minha idade é 23\n",
      "Meu nome é: Saulo \t minha idade é 23 \t Pesoooooooooooooooooooooooo é 64.3\n"
     ]
    }
   ],
   "source": [
    "nome = input(\"Seu Nome:\")\n",
    "\n",
    "print(nome)\n",
    "\n",
    "print(\"Meu nome é:\",nome,\"\\t minha idade é\",idade)\n",
    "\n",
    "\n",
    "kgm = float(input(\"Digite seu pesoooooooooooooooooooooooooooooooooooooooooooooooo\"))\n",
    "print(\"Meu nome é:\",nome,\"\\t minha idade é\",idade, \"\\t Pesoooooooooooooooooooooooo é\", kgm)\n",
    "\n"
   ]
  },
  {
   "cell_type": "code",
   "execution_count": 7,
   "metadata": {},
   "outputs": [
    {
     "name": "stdout",
     "output_type": "stream",
     "text": [
      "66.25\n"
     ]
    }
   ],
   "source": [
    "#Primeiro Multi do primeiro fator\n",
    "#Depois Multi do segundo fator\n",
    "#Terceiro Divisiao da segunda multi\n",
    "#Quarto Soma  dos dois numeros anteriores \n",
    "print(2*idade1 + 3 * idade2 / 4)\n",
    "\n",
    "\n"
   ]
  }
 ],
 "metadata": {
  "kernelspec": {
   "display_name": "Python 3",
   "language": "python",
   "name": "python3"
  },
  "language_info": {
   "codemirror_mode": {
    "name": "ipython",
    "version": 3
   },
   "file_extension": ".py",
   "mimetype": "text/x-python",
   "name": "python",
   "nbconvert_exporter": "python",
   "pygments_lexer": "ipython3",
   "version": "3.10.11"
  }
 },
 "nbformat": 4,
 "nbformat_minor": 2
}
