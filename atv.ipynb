{
 "cells": [
  {
   "cell_type": "code",
   "execution_count": 1,
   "metadata": {},
   "outputs": [
    {
     "name": "stdout",
     "output_type": "stream",
     "text": [
      "Estamos no elemento S\n",
      "Estamos no elemento T\n",
      "Estamos no elemento R\n",
      "Estamos no elemento I\n",
      "Estamos no elemento N\n",
      "Estamos no elemento G\n"
     ]
    }
   ],
   "source": [
    "s = 'STRING'\n",
    "indice = 0\n",
    "\n",
    "while indice in range (len(s)):\n",
    "    print('Estamos no elemento', s[indice])\n",
    "    indice +=1"
   ]
  },
  {
   "cell_type": "code",
   "execution_count": 2,
   "metadata": {},
   "outputs": [
    {
     "name": "stdout",
     "output_type": "stream",
     "text": [
      "0 t\n",
      "1 r\n",
      "2 a\n",
      "3 n\n",
      "4 q\n",
      "5 u\n",
      "6 i\n",
      "7 l\n",
      "8 o\n"
     ]
    }
   ],
   "source": [
    "palavra = 'tranquilo'\n",
    "for indice, letra in enumerate(palavra):\n",
    "    print(indice, letra)\n",
    "    "
   ]
  },
  {
   "cell_type": "code",
   "execution_count": null,
   "metadata": {},
   "outputs": [],
   "source": [
    "lista = []\n",
    "for lista in range(0, 5):\n",
    "    p = input(\"Digite o nome do produto\")\n",
    "    p = input(int(\"Digite o valor do produto\"))\n"
   ]
  },
  {
   "cell_type": "code",
   "execution_count": 3,
   "metadata": {},
   "outputs": [
    {
     "name": "stdout",
     "output_type": "stream",
     "text": [
      "Oi\n",
      "Oi\n",
      "Oi\n",
      "Oi\n",
      "Oi\n",
      "Oi\n",
      "Oi\n",
      "Oi\n",
      "Oi\n",
      "Oi\n",
      "Oi\n",
      "Oi\n",
      "Oi\n"
     ]
    }
   ],
   "source": [
    "s = 'viva o python'\n",
    "for ch in s:\n",
    "    print(\"Oi\")"
   ]
  },
  {
   "cell_type": "code",
   "execution_count": 4,
   "metadata": {},
   "outputs": [
    {
     "name": "stdout",
     "output_type": "stream",
     "text": [
      "Oi\n",
      "Oi\n",
      "Oi\n",
      "Oi\n",
      "Oi\n"
     ]
    }
   ],
   "source": [
    "s = \"viva o python\"\n",
    "for ch in s[3:8]:\n",
    "    print(\"Oi\")"
   ]
  },
  {
   "cell_type": "code",
   "execution_count": 13,
   "metadata": {},
   "outputs": [
    {
     "name": "stdout",
     "output_type": "stream",
     "text": [
      "Numero é impar 101\n",
      "Numero é impar 91\n",
      "Numero é par 92\n",
      "Numero é impar 93\n",
      "Numero é par 94\n",
      "Numero é impar 55\n",
      "Numero é par 64\n",
      "Numero é par 36\n",
      "Numero é par 10\n",
      "Numero é par 12\n",
      "A quantidade de numeros par é  10 A quantidade de numeros impar  0\n"
     ]
    }
   ],
   "source": [
    "numero = 0\n",
    "par =+ 0\n",
    "\n",
    "for numero in range(0, 10):\n",
    "    usuario = int(input(\"Digite os numeros\"))\n",
    "    if(usuario % 2 == 0):\n",
    "        print(\"Numero é par\", usuario)\n",
    "        par += 1\n",
    "    else:\n",
    "        print(\"Numero é impar\", usuario)\n",
    "        \n",
    "        \n",
    "print(\"A quantidade de numeros par é \", par , \"A quantidade de numeros impar \", 10-par)"
   ]
  },
  {
   "cell_type": "code",
   "execution_count": 27,
   "metadata": {},
   "outputs": [
    {
     "name": "stdout",
     "output_type": "stream",
     "text": [
      "Numero impar\n",
      "Numero impar\n",
      "Numero par\n",
      "Numero impar\n",
      "Numero par\n",
      "Numero impar\n",
      "Numero impar\n",
      "Numero par\n",
      "Numero impar\n",
      "Numero par\n",
      "A quantidade numeros pares é  4 A quantidade de numeros impares 6\n",
      "Valores pares são [30, 40, 66, 70]\n",
      "Valores impares são [101, 99, 35, 55, 51, 33]\n"
     ]
    }
   ],
   "source": [
    "lista = []\n",
    "valor = 0\n",
    "pares = []\n",
    "impar = []\n",
    "for num in range(0, 10):\n",
    "    va1 = int(input(\"Digite o numero\"))\n",
    "    lista.append(va1)\n",
    "for i in range(0, 10):\n",
    "    if(lista[i] % 2 == 0):\n",
    "        print(\"Numero par\")\n",
    "        pares.append(lista[i])\n",
    "        valor += 1\n",
    "    else:\n",
    "        \n",
    "        impar.append(lista[i])\n",
    "        print(\"Numero impar\")\n",
    "\n",
    "print(\"A quantidade numeros pares é \", len(pares),\"A quantidade de numeros impares\", len(impar))\n",
    "print(\"Valores pares são\", pares)\n",
    "print(\"Valores impares são\", impar)\n",
    "\n"
   ]
  }
 ],
 "metadata": {
  "kernelspec": {
   "display_name": "Python 3",
   "language": "python",
   "name": "python3"
  },
  "language_info": {
   "codemirror_mode": {
    "name": "ipython",
    "version": 3
   },
   "file_extension": ".py",
   "mimetype": "text/x-python",
   "name": "python",
   "nbconvert_exporter": "python",
   "pygments_lexer": "ipython3",
   "version": "3.10.11"
  }
 },
 "nbformat": 4,
 "nbformat_minor": 2
}
