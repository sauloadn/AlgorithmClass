{
 "cells": [
  {
   "cell_type": "code",
   "execution_count": 4,
   "metadata": {},
   "outputs": [
    {
     "name": "stdout",
     "output_type": "stream",
     "text": [
      "Volta pra casa\n"
     ]
    }
   ],
   "source": [
    "\n",
    "#Pergunta que clima esta fazendo\n",
    "dia = int(input(\"Digite o que esta fazendo 1 - Sol 0 - Chuva\"))\n",
    "while(dia > 1):\n",
    "    dia = int(input(\"Digite o que esta fazendo 1 - Sol 0 - Chuva\"))\n",
    "    \n",
    "\n",
    "\n",
    "\n",
    "\n",
    "#Caso for dia ele entrara neste primeiro laço\n",
    "if( dia == 1):\n",
    "    dinheiro = int(input(\"Voce tem dinheiro? 1 - Sim 0 - Nao\"))\n",
    "    #Caso ele tiver dinheiro ele vai para praia\n",
    "    if(dinheiro == 1):\n",
    "        print(\"Voce vai a praia\")\n",
    "    #Caso não ele volta para casa\n",
    "    else:\n",
    "\n",
    "        print(\"Volta pra casa\")\n",
    "#Caso nao seja o clima ele fica em casa assistindo netflix.\n",
    "else:\n",
    "    print(\"Você vai ficar em casa assistindo netflix\")\n"
   ]
  },
  {
   "cell_type": "code",
   "execution_count": 9,
   "metadata": {},
   "outputs": [],
   "source": [
    "dia = input(\"Digite o que esta fazendo 1 - Sol 0 - Chuva\")\n",
    "if(dia != 'sol' or dia != 'chuva'):\n",
    "    while(1):\n",
    "        dia = (\"Digite o que esta fazendo 1 - Sol 0 - Chuva\")\n",
    "else:\n",
    "    \n",
    "\n",
    "\n",
    "\n",
    "\n",
    "#Caso for dia ele entrara neste primeiro laço\n",
    "\n",
    "        dinheiro = input(\"Voce tem dinheiro? Sim ou Nao\")\n",
    "        #Caso ele tiver dinheiro ele vai para praia\n",
    "        if(dinheiro != 'Sim' or dinheiro != 'Nao'):\n",
    "            while(True):\n",
    "                dinheiro = input(\"Voce tem dinheiro? Sim ou Nao\")\n",
    "           \n",
    "        #Caso não ele volta para casa\n",
    "        elif(dinheiro == 'Sim'):\n",
    "\n",
    "            print(\"Voce vai a praia\")\n",
    "        else:\n",
    "            print(\"Volte para casa\")\n",
    "  \n",
    "#Caso nao seja o clima ele fica em casa assistindo netflix.\n",
    "    \n"
   ]
  },
  {
   "cell_type": "code",
   "execution_count": null,
   "metadata": {},
   "outputs": [],
   "source": []
  }
 ],
 "metadata": {
  "kernelspec": {
   "display_name": "Python 3",
   "language": "python",
   "name": "python3"
  },
  "language_info": {
   "codemirror_mode": {
    "name": "ipython",
    "version": 3
   },
   "file_extension": ".py",
   "mimetype": "text/x-python",
   "name": "python",
   "nbconvert_exporter": "python",
   "pygments_lexer": "ipython3",
   "version": "3.10.11"
  }
 },
 "nbformat": 4,
 "nbformat_minor": 2
}
