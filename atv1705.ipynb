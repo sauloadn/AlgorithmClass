{
 "cells": [
  {
   "cell_type": "code",
   "execution_count": 5,
   "metadata": {},
   "outputs": [
    {
     "name": "stdout",
     "output_type": "stream",
     "text": [
      "\n",
      " 5 patinhos foram passear \n",
      " Além das montanhas para brincar \n",
      " A mamãe gritou: Quá, quá, quá, quá\n",
      " Mas só  4 voltaram de lá.\n",
      "\n",
      " 4 patinhos foram passear \n",
      " Além das montanhas para brincar \n",
      " A mamãe gritou: Quá, quá, quá, quá\n",
      " Mas só  3 voltaram de lá.\n",
      "\n",
      " 3 patinhos foram passear \n",
      " Além das montanhas para brincar \n",
      " A mamãe gritou: Quá, quá, quá, quá\n",
      " Mas só  2 voltaram de lá.\n",
      "\n",
      " 2 patinhos foram passear \n",
      " Além das montanhas para brincar \n",
      " A mamãe gritou: Quá, quá, quá, quá\n",
      " Mas só  1 voltaram de lá.\n",
      "\n",
      " 1 patinhos foram passear \n",
      " Além das montanhas para brincar \n",
      " A mamãe gritou: Quá, quá, quá, quá\n",
      " Mas só  0 voltaram de lá.\n",
      "\n",
      " 0 patinhos foram passear \n",
      " Além das montanhas para brincar \n",
      " A mamãe gritou: Quá, quá, quá, quá\n",
      " Mas só  -1 voltaram de lá.\n",
      "\n",
      " -1 patinhos foram passear \n",
      " Além das montanhas para brincar \n",
      " A mamãe gritou: Quá, quá, quá, quá\n",
      " Mas só  -2 voltaram de lá.\n",
      "\n",
      " A mamãe patinha foi procurar \n",
      " Além das montanhas na beira do mar \n",
      " A mamãe gritou: Quá, quá, quá, quá \n",
      " E 1 patinhos voltaram de lá.\n",
      "\n",
      " A mamãe patinha foi procurar \n",
      " Além das montanhas na beira do mar \n",
      " A mamãe gritou: Quá, quá, quá, quá \n",
      " E 2 patinhos voltaram de lá.\n",
      "\n",
      " A mamãe patinha foi procurar \n",
      " Além das montanhas na beira do mar \n",
      " A mamãe gritou: Quá, quá, quá, quá \n",
      " E 3 patinhos voltaram de lá.\n",
      "\n",
      " A mamãe patinha foi procurar \n",
      " Além das montanhas na beira do mar \n",
      " A mamãe gritou: Quá, quá, quá, quá \n",
      " E 4 patinhos voltaram de lá.\n",
      "\n",
      " A mamãe patinha foi procurar \n",
      " Além das montanhas na beira do mar \n",
      " A mamãe gritou: Quá, quá, quá, quá \n",
      " E 5 patinhos voltaram de lá.\n"
     ]
    }
   ],
   "source": [
    "for patinhos in range(5, -2, -1):\n",
    "    print(f\"\\n {patinhos} patinhos foram passear \\n Além das montanhas para brincar \\n A mamãe gritou: Quá, quá, quá, quá\\n Mas só  {patinhos-1} voltaram de lá.\"   )\n",
    "for patinhos in range(1, 6):\n",
    "    print(f\"\\n A mamãe patinha foi procurar \\n Além das montanhas na beira do mar \\n A mamãe gritou: Quá, quá, quá, quá \\n E {patinhos} patinhos voltaram de lá.\")\n",
    "\n"
   ]
  },
  {
   "cell_type": "code",
   "execution_count": 6,
   "metadata": {},
   "outputs": [
    {
     "name": "stdout",
     "output_type": "stream",
     "text": [
      "10.0 * 0 = 0.0\n",
      "10.0 * 1 = 10.0\n",
      "10.0 * 2 = 20.0\n",
      "10.0 * 3 = 30.0\n",
      "10.0 * 4 = 40.0\n",
      "10.0 * 5 = 50.0\n",
      "10.0 * 6 = 60.0\n",
      "10.0 * 7 = 70.0\n",
      "10.0 * 8 = 80.0\n",
      "10.0 * 9 = 90.0\n",
      "10.0 * 10 = 100.0\n"
     ]
    },
    {
     "ename": "",
     "evalue": "",
     "output_type": "error",
     "traceback": [
      "\u001b[1;31mThe Kernel crashed while executing code in the current cell or a previous cell. \n",
      "\u001b[1;31mPlease review the code in the cell(s) to identify a possible cause of the failure. \n",
      "\u001b[1;31mClick <a href='https://aka.ms/vscodeJupyterKernelCrash'>here</a> for more info. \n",
      "\u001b[1;31mView Jupyter <a href='command:jupyter.viewOutput'>log</a> for further details."
     ]
    }
   ],
   "source": [
    "numero = float(input(\"Digite um numero\"))\n",
    "\n",
    "for i in range(11):\n",
    "    print(f\"{numero} * {i} = {numero * i}\")"
   ]
  }
 ],
 "metadata": {
  "kernelspec": {
   "display_name": "myenv",
   "language": "python",
   "name": "python3"
  },
  "language_info": {
   "codemirror_mode": {
    "name": "ipython",
    "version": 3
   },
   "file_extension": ".py",
   "mimetype": "text/x-python",
   "name": "python",
   "nbconvert_exporter": "python",
   "pygments_lexer": "ipython3",
   "version": "3.10.13"
  }
 },
 "nbformat": 4,
 "nbformat_minor": 2
}
