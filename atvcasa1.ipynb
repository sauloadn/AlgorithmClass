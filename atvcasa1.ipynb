{
 "cells": [
  {
   "cell_type": "code",
   "execution_count": 2,
   "metadata": {},
   "outputs": [],
   "source": [
    "primeiro = int(input(\"Digite o primeiro numero\"))\n",
    "segundo = float(input(\"Segundo numero\"))\n",
    "terceiro = float(input(\"Terceiro numero\"))"
   ]
  },
  {
   "cell_type": "code",
   "execution_count": 3,
   "metadata": {},
   "outputs": [
    {
     "name": "stdout",
     "output_type": "stream",
     "text": [
      "O resultado é  200.0\n"
     ]
    }
   ],
   "source": [
    "# Letra A\n",
    "produto = (2 * primeiro) * (segundo / 2)\n",
    "print(\"O resultado é \", produto)"
   ]
  },
  {
   "cell_type": "code",
   "execution_count": null,
   "metadata": {},
   "outputs": [],
   "source": [
    "# Letra B - Lista \n",
    "soma = 3 * primeiro + (terceiro**3)\n",
    "print(\"O resultado é\", soma)"
   ]
  },
  {
   "cell_type": "code",
   "execution_count": null,
   "metadata": {},
   "outputs": [],
   "source": [
    "# 7\n",
    "numero1 = float(input(\"Digite o primeiro valor\"))\n",
    "numero2 = float(input(\"Digite o segundo valor\"))\n",
    "\n",
    "if(numero1 > numero2):\n",
    "    print(\"O Maior numero é \", numero1)\n",
    "elif(numero1 == numero2):\n",
    "    print(\"Os dois numeros sao iguais\")\n",
    "else:\n",
    "    print(\"O maior numero é\", numero2)"
   ]
  },
  {
   "cell_type": "code",
   "execution_count": null,
   "metadata": {},
   "outputs": [],
   "source": [
    "# Questao 8 ---\n",
    "num = float(input(\"Digite um valor\"))\n",
    "\n",
    "if num > 0:\n",
    "    print(\"Positivo\")\n",
    "elif num == 0:\n",
    "    print(\"Neutro\")\n",
    "else:\n",
    "    print(\"Negativo\")"
   ]
  },
  {
   "cell_type": "code",
   "execution_count": null,
   "metadata": {},
   "outputs": [],
   "source": [
    "# Questao 9\n",
    "nota1 = float(input(\"Primeira Nota\"))\n",
    "nota2 = float(input(\"Segunda nota\"))\n",
    "\n",
    "media = nota1/nota2\n",
    "\n",
    "if(media >= 7):\n",
    "    print(\"Aprovado\")\n",
    "else:\n",
    "    print(\"Reprovado\")\n"
   ]
  },
  {
   "cell_type": "code",
   "execution_count": null,
   "metadata": {},
   "outputs": [],
   "source": [
    "# Questao 10\n",
    "num1 = float(input(\"1* Numero:\"))\n",
    "valor = num1\n",
    "num2 = float(input(\"2* Numero\"))\n",
    "\n",
    "num3 = float(input(\"3 Numero\"))\n",
    "\n",
    "if num1 > num2  and num1 > num3:\n",
    "    print(\"O maior numero é\", num1) \n",
    "elif num2 > num1 and num2 > num3:\n",
    "    print(\"O maior Numero é\", num2)\n",
    "else:\n",
    "    print(\"O maior numero é \", num3)"
   ]
  }
 ],
 "metadata": {
  "kernelspec": {
   "display_name": "myenv",
   "language": "python",
   "name": "python3"
  },
  "language_info": {
   "codemirror_mode": {
    "name": "ipython",
    "version": 3
   },
   "file_extension": ".py",
   "mimetype": "text/x-python",
   "name": "python",
   "nbconvert_exporter": "python",
   "pygments_lexer": "ipython3",
   "version": "3.10.13"
  }
 },
 "nbformat": 4,
 "nbformat_minor": 2
}
