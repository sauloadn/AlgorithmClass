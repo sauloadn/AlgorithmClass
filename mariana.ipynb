{
 "cells": [
  {
   "cell_type": "code",
   "execution_count": 18,
   "metadata": {},
   "outputs": [
    {
     "name": "stdout",
     "output_type": "stream",
     "text": [
      "Mariana conta 1\n",
      "Mariana conta 1: é 1 \n",
      "Ana, viva a Mariana, viva a Mariana\n",
      "Mariana conta 2\n",
      "Mariana conta 2: é 1 é 2 \n",
      "Ana, viva a Mariana, viva a Mariana\n",
      "Mariana conta 3\n",
      "Mariana conta 3: é 1 é 2 é 3 \n",
      "Ana, viva a Mariana, viva a Mariana\n",
      "Mariana conta 4\n",
      "Mariana conta 4: é 1 é 2 é 3 é 4 \n",
      "Ana, viva a Mariana, viva a Mariana\n",
      "Mariana conta 5\n",
      "Mariana conta 5: é 1 é 2 é 3 é 4 é 5 \n",
      "Ana, viva a Mariana, viva a Mariana\n",
      "Mariana conta 6\n",
      "Mariana conta 6: é 1 é 2 é 3 é 4 é 5 é 6 \n",
      "Ana, viva a Mariana, viva a Mariana\n",
      "Mariana conta 7\n",
      "Mariana conta 7: é 1 é 2 é 3 é 4 é 5 é 6 é 7 \n",
      "Ana, viva a Mariana, viva a Mariana\n",
      "Mariana conta 8\n",
      "Mariana conta 8: é 1 é 2 é 3 é 4 é 5 é 6 é 7 é 8 \n",
      "Ana, viva a Mariana, viva a Mariana\n",
      "Mariana conta 9\n",
      "Mariana conta 9: é 1 é 2 é 3 é 4 é 5 é 6 é 7 é 8 é 9 \n",
      "Ana, viva a Mariana, viva a Mariana\n",
      "Mariana conta 10\n",
      "Mariana conta 10: é 1 é 2 é 3 é 4 é 5 é 6 é 7 é 8 é 9 é 10 \n",
      "Ana, viva a Mariana, viva a Mariana\n"
     ]
    }
   ],
   "source": [
    "for i in range(1, 11):\n",
    "    print(f\"Mariana conta\", i)\n",
    "    print(f\"Mariana conta {i}:\", end = \" \"),\n",
    "    for x in range(1, i+1):\n",
    "        print(\"é\", x, end=\" \")\n",
    "    print(\"\\nAna, viva a Mariana, viva a Mariana\")\n",
    "\n"
   ]
  },
  {
   "cell_type": "code",
   "execution_count": 38,
   "metadata": {},
   "outputs": [
    {
     "name": "stdout",
     "output_type": "stream",
     "text": [
      "1 Elefante incomoda muita gente\n",
      "2 Elefantes incomodam, incomodam,  muito mais!\n",
      "3 Elefantes incomodam muita gente!\n",
      "4 Elefantes incomodam, incomodam, incomodam, incomodam,  muito mais!\n",
      "5 Elefantes incomodam muita gente!\n",
      "6 Elefantes incomodam, incomodam, incomodam, incomodam, incomodam, incomodam,  muito mais!\n",
      "7 Elefantes incomodam muita gente!\n",
      "8 Elefantes incomodam, incomodam, incomodam, incomodam, incomodam, incomodam, incomodam, incomodam,  muito mais!\n",
      "9 Elefantes incomodam muita gente!\n",
      "10 Elefantes incomodam, incomodam, incomodam, incomodam, incomodam, incomodam, incomodam, incomodam, incomodam, incomodam,  muito mais!\n",
      "10 Elefantes incomodam muita gente!\n",
      "9 Elefantes incomodam, incomodam, incomodam, incomodam, incomodam, incomodam, incomodam, incomodam, incomodam,  muito mais!\n",
      "8 Elefantes incomodam muita gente!\n",
      "7 Elefantes incomodam, incomodam, incomodam, incomodam, incomodam, incomodam, incomodam,  muito mais!\n",
      "6 Elefantes incomodam muita gente!\n",
      "5 Elefantes incomodam, incomodam, incomodam, incomodam, incomodam,  muito mais!\n",
      "4 Elefantes incomodam muita gente!\n",
      "3 Elefantes incomodam, incomodam, incomodam,  muito mais!\n",
      "2 Elefantes incomodam muita gente!\n",
      "1 Elefante incomoda muita gente\n"
     ]
    }
   ],
   "source": [
    "for i in range(1, 11):\n",
    "\n",
    "    if i % 2 == 0:\n",
    "            print(i,\"Elefantes\", i*\"incomodam, \", \"muito mais!\")\n",
    "    else:\n",
    "        \n",
    "        if i == 1:\n",
    "            print(i,\"Elefante incomoda muita gente\")\n",
    "        else:\n",
    "            print(i,\"Elefantes incomodam muita gente!\")\n",
    "\n",
    "for x in range(10, 0, -1):\n",
    "    if x % 2 == 0:\n",
    "        print(x,\"Elefantes incomodam muita gente!\")\n",
    "    else:\n",
    "        if x == 1:\n",
    "            print(x,\"Elefante incomoda muita gente\")\n",
    "        else:\n",
    "            print(x,\"Elefantes\", x*\"incomodam, \", \"muito mais!\")"
   ]
  }
 ],
 "metadata": {
  "kernelspec": {
   "display_name": "myenv",
   "language": "python",
   "name": "python3"
  },
  "language_info": {
   "codemirror_mode": {
    "name": "ipython",
    "version": 3
   },
   "file_extension": ".py",
   "mimetype": "text/x-python",
   "name": "python",
   "nbconvert_exporter": "python",
   "pygments_lexer": "ipython3",
   "version": "3.10.13"
  }
 },
 "nbformat": 4,
 "nbformat_minor": 2
}
