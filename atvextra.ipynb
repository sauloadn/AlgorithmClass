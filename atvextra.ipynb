{
 "cells": [
  {
   "cell_type": "code",
   "execution_count": 9,
   "metadata": {},
   "outputs": [
    {
     "name": "stdout",
     "output_type": "stream",
     "text": [
      "É uma vogal\n"
     ]
    }
   ],
   "source": [
    "vogais = ['a', 'e', 'i', 'o', 'u', 'A', 'E', 'I', 'O', 'U']\n",
    "numero = ['0', '1', '2', '3', '4', '5', '6', '7', '8', '9']\n",
    "letra = str(input(\"Digite a letra\"))\n",
    "max = len(letra)\n",
    "n = 1\n",
    "if max > 1 or letra in numero:\n",
    "    for n in range(3):\n",
    "        letra = input(f\"Digite a letra novamente voce tem ${3-n} Tentativas\")\n",
    "        max = len(letra)\n",
    "        n += 1\n",
    "        if(letra in vogais):\n",
    "             print(\"É uma vogal\")\n",
    "             break\n",
    "        elif max == 1 and letra not in numero:\n",
    "            print(\"É uma consoante\")\n",
    "            break\n",
    "\n",
    "elif(letra in vogais):\n",
    "    print(\"É uma vogal\")\n",
    "else:\n",
    "    print(\"É uma consoante\")"
   ]
  },
  {
   "cell_type": "code",
   "execution_count": 2,
   "metadata": {},
   "outputs": [
    {
     "name": "stdout",
     "output_type": "stream",
     "text": [
      "O menor valor do Pão é o 1* que é  10.3\n"
     ]
    }
   ],
   "source": [
    "lista = []\n",
    "produto = input(\"Digite o nome do produto\")\n",
    "\n",
    "for i in range(3):\n",
    "     \n",
    "    valor = float(input(\"Digite o valor do produto\"))\n",
    "    lista.append(valor)\n",
    "    i += 1\n",
    "\n",
    "numero = lista[0]\n",
    "for x in range(3):\n",
    "    \n",
    "    \n",
    "    if(numero > lista[x]):\n",
    "        numero = lista[x]\n",
    "    \n",
    "\n",
    "    \n",
    "for z in range(len(lista)):\n",
    "    \n",
    "    if numero == lista[z]:\n",
    "        print(f\"O menor valor do {produto} é o {z+1}* que é \", numero)\n",
    "    for p in range(len(lista)):\n",
    "        \n",
    "    z += 1\n",
    "        "
   ]
  },
  {
   "cell_type": "code",
   "execution_count": 254,
   "metadata": {},
   "outputs": [
    {
     "data": {
      "text/plain": [
       "[5.0, 4.0, 2.0]"
      ]
     },
     "execution_count": 254,
     "metadata": {},
     "output_type": "execute_result"
    }
   ],
   "source": [
    "numeros = []\n",
    "desc = 0\n",
    "for i in range(3):\n",
    "    i += 1\n",
    "    valor = float(input(\"Digite o {i}* numero\"))\n",
    "    \n",
    "    numeros.append(valor)\n",
    "\n",
    "for x in range(len(numeros)):\n",
    "    for j in range( len(numeros)):\n",
    "        if(numeros[x] > numeros[j]):\n",
    "            desc = numeros[x]\n",
    "            numeros[x] = numeros[j]\n",
    "            \n",
    "            numeros[j] = desc\n",
    "            \n",
    "\n",
    "numeros\n",
    "  \n",
    "            \n",
    "    \n",
    "  \n",
    "\n",
    "\n",
    "\n"
   ]
  },
  {
   "cell_type": "code",
   "execution_count": 187,
   "metadata": {},
   "outputs": [
    {
     "name": "stdout",
     "output_type": "stream",
     "text": [
      "Bom Dia\n"
     ]
    }
   ],
   "source": [
    "dic = {'M':'Bom Dia','V':'Boa Tarde','N':'Boa Noite'}\n",
    "lista = ['M', 'V', 'N', 'm', 'v', 'n']\n",
    "turno = input(\"Digite seu turno M-Matutino, V-Vespertino, N-Noite\")\n",
    "if turno in lista:\n",
    "    resposta = dic[turno]\n",
    "    print(resposta)\n",
    "else:\n",
    "    print(\"Resposta Invalida\")\n"
   ]
  },
  {
   "cell_type": "code",
   "execution_count": 189,
   "metadata": {},
   "outputs": [
    {
     "name": "stdout",
     "output_type": "stream",
     "text": [
      "Resposta Invalida\n"
     ]
    }
   ],
   "source": [
    "dic = {'1':'Domingo','2':'Segunda','3':'Terça','4':'Quarta','5':'Quinta','6':'Sexta','7':'Sabado'}\n",
    "lista = ['1','2','3','4','5','6','7']\n",
    "num = input(\"Digite um numero\")\n",
    "if num in lista:\n",
    "    resposta = dic[num]\n",
    "    print(resposta)\n",
    "else:\n",
    "    print(\"Resposta Invalida\")"
   ]
  },
  {
   "cell_type": "code",
   "execution_count": 199,
   "metadata": {},
   "outputs": [
    {
     "name": "stdout",
     "output_type": "stream",
     "text": [
      "Conceito D REPROVADO!!!!\n"
     ]
    }
   ],
   "source": [
    "lista = [\"Conceito A APROVADO!!!!!\",\"Conceito B APROVADO!!!!!\", \"Conceito C APROVADO!!!!!!\",\"Conceito D REPROVADO!!!!\", \"Conceito E REPROVADO!!!\"]\n",
    "nota = []\n",
    "for i in range(2):\n",
    "    notas = float(input(f\"Digite a nota {i+1}\"))\n",
    "    nota.append(notas)\n",
    "    \n",
    "\n",
    "media = (nota[0] + nota[1]) / 2\n",
    "\n",
    "if media >= 9 and media <= 10:\n",
    "    print(lista[0])\n",
    "elif media >= 7.5 and media <= 9:\n",
    "    print(lista[1])\n",
    "elif media >= 6.0 and media <= 7.5:\n",
    "    print(lista[2])\n",
    "elif media >= 4.0 and media <= 6.0:\n",
    "    print(lista[3])\n",
    "elif media >= 0 and media <= 4:\n",
    "    print(lista[4])\n",
    "else:\n",
    "    print(\"Tu é burro é meu nota negativa é foda\")\n"
   ]
  },
  {
   "cell_type": "code",
   "execution_count": 200,
   "metadata": {},
   "outputs": [
    {
     "name": "stdout",
     "output_type": "stream",
     "text": [
      "Num é\n"
     ]
    }
   ],
   "source": [
    "ano = int(input(\"Digite o ano\"))\n",
    "\n",
    "\n",
    "if(ano % 4 == 0):\n",
    "    print(\"Bissexto\")\n",
    "else:\n",
    "    print(\"Num é\")"
   ]
  },
  {
   "cell_type": "code",
   "execution_count": 220,
   "metadata": {},
   "outputs": [
    {
     "name": "stdout",
     "output_type": "stream",
     "text": [
      "O resultado de 3.5 + 5.0 = 8.5, O numero é positivo e decimal\n"
     ]
    }
   ],
   "source": [
    "\n",
    "\n",
    "num1 = float(input(f\"Digite o primeiro numero\"))\n",
    "calc = input(\"Digite a operação + \\n - \\n x \\n / ** \\n\") \n",
    "num2 = float(input(f\"Digite o segundo numero\"))\n",
    "\n",
    "if(calc == '+'):\n",
    "    resultado = num1 + num2\n",
    "    if resultado % 2 == 0 and resultado > 0 and resultado % 1 == 0:\n",
    "        print(f\"O resultado de {num1} + {num2} = {num1+num2}, O numero é par,positivo e inteiro\")\n",
    "    elif resultado % 2 == 1 and resultado > 0 and resultado % 1 == 0:\n",
    "        print(f\"O resultado de {num1} + {num2} = {num1+num2}, O numero é impar,positivo e inteiro\")\n",
    "    elif resultado % 2 == 0 and resultado < 0 and resultado % 1 == 0:\n",
    "        print(f\"O resultado de {num1} + {num2} = {num1+num2}, O numero é par,negativo e inteiro\")\n",
    "    elif resultado % 2 == 1 and resultado < 0 and resultado % 1 == 0:\n",
    "        print(f\"O resultado de {num1} + {num2} = {num1+num2}, O numero é impar,negativo e inteiro\")\n",
    "    elif resultado > 0 and resultado % 1 != 0:\n",
    "        print(f\"O resultado de {num1} + {num2} = {num1+num2}, O numero é positivo e decimal\")\n",
    "    elif resultado < 0 and resultado % 1 != 0:\n",
    "        print(f\"O resultado de {num1} + {num2} = {num1+num2}, O numero é negativo e decimal\")\n",
    "    else:\n",
    "        print(\"Numero é natural, inteiro, nao negativo\")\n",
    "      \n",
    "    \n",
    "elif calc == '-':\n",
    "    \n",
    "    resultado = num1-num2\n",
    "    \n",
    "    if(resultado % 2 == 0 and resultado > 0 and resultado % 1 == 0):\n",
    "        print(f\"O resultado de {num1} - {num2} = {num1-num2}, O numero é par,positivo e inteiro\")\n",
    "    elif(resultado % 2 == 1 and resultado > 0 and resultado % 1 == 0):\n",
    "        print(f\"O resultado de {num1} - {num2} = {num1-num2}, O numero é impar,positivo e inteiro\")\n",
    "    elif(resultado % 2 == 0 and resultado < 0 and resultado % 1 == 0):\n",
    "         print(f\"O resultado de {num1} - {num2} = {num1-num2}, O numero é par,negativo e inteiro\")\n",
    "    elif(resultado % 2 == 1 and resultado < 0 and resultado % 1 == 0):\n",
    "         print(f\"O resultado de {num1} - {num2} = {num1-num2}, O numero é impar,negativo e inteiro\")\n",
    "    elif(resultado > 0 and resultado % 1 != 0):\n",
    "        print(f\"O resultado de {num1} - {num2} = {num1-num2}, O numero é positivo e decimal\")\n",
    "    elif(resultado < 0 and resultado % 1 != 0):\n",
    "         print(f\"O resultado de {num1} - {num2} = {num1-num2}, O numero é negativo e decimal\")\n",
    "    else:\n",
    "        print(\"Numero é natural, inteiro, nao negativo\")\n",
    "elif calc == 'x':\n",
    "    \n",
    "    resultado = num1*num2\n",
    "    if(resultado % 2 == 0 and resultado > 0 and resultado % 1 == 0):\n",
    "        print(f\"O resultado de {num1} x {num2} = {num1*num2}, O numero é par,positivo e inteiro\")\n",
    "    elif(resultado % 2 == 1 and resultado > 0 and resultado % 1 == 0):\n",
    "        print(f\"O resultado de {num1} x {num2} = {num1*num2}, O numero é impar,positivo e inteiro\")\n",
    "    elif(resultado % 2 == 0 and resultado < 0 and resultado % 1 == 0):\n",
    "         print(f\"O resultado de {num1} x {num2} = {num1*num2}, O numero é par,negativo e inteiro\")\n",
    "    elif(resultado % 2 == 1 and resultado < 0 and resultado % 1 == 0):\n",
    "        print(f\"O resultado de {num1} x {num2} = {num1*num2}, O numero é impar,negativo e inteiro\")\n",
    "    elif(resultado > 0 and resultado % 1 != 0):\n",
    "        print(f\"O resultado de {num1} x {num2} = {num1*num2}, O numero é positivo e decimal\")\n",
    "    elif(resultado < 0 and resultado % 1 != 0):\n",
    "        print(f\"O resultado de {num1} x {num2} = {num1*num2}, O numero é negativo e decimal\")\n",
    "    else:\n",
    "        print(\"Numero é natural, inteiro, nao negativo\")\n",
    "elif calc == '/':\n",
    "\n",
    "    resultado = num1/num2\n",
    "    if(resultado % 2 == 0 and resultado > 0 and resultado % 1 == 0):\n",
    "        print(f\"O resultado de {num1} / {num2} = {num1/num2}, O numero é par,positivo e inteiro\")\n",
    "    elif(resultado % 2 == 1 and resultado > 0 and resultado % 1 == 0):\n",
    "        print(f\"O resultado de {num1} / {num2} = {num1/num2}, O numero é impar,positivo e inteiro\")\n",
    "    elif(resultado % 2 == 0 and resultado < 0 and resultado % 1 == 0):\n",
    "        print(f\"O resultado de {num1} / {num2} = {num1/num2}, O numero é par,negativo e inteiro\")\n",
    "    elif(resultado % 2 == 1 and resultado < 0 and resultado % 1 == 0):\n",
    "        print(f\"O resultado de {num1} / {num2} = {num1/num2}, O numero é impar,negativo e inteiro\")\n",
    "    elif(resultado > 0 and resultado % 1 != 0):\n",
    "        print(f\"O resultado de {num1} / {num2} = {num1/num2}, O numero é positivo e decimal\")\n",
    "    elif(resultado < 0 and resultado % 1 != 0):\n",
    "        print(f\"O resultado de {num1} / {num2} = {num1/num2}, O numero é negativo e decimal\")\n",
    "    else:\n",
    "        print(\"Numero é natural, inteiro, nao negativo\")\n",
    "elif calc == '**':\n",
    "        \n",
    "    resultado = num1**num2\n",
    "    if(resultado % 2 == 0 and resultado > 0 and resultado % 1 == 0):\n",
    "        print(f\"O resultado de {num1} / {num2} = {num1/num2}, O numero é par,positivo e inteiro\")\n",
    "    elif(resultado % 2 == 1 and resultado > 0 and resultado % 1 == 0):\n",
    "        print(f\"O resultado de {num1} / {num2} = {num1/num2}, O numero é impar,positivo e inteiro\")\n",
    "    elif(resultado % 2 == 0 and resultado < 0 and resultado % 1 == 0):\n",
    "        print(f\"O resultado de {num1} / {num2} = {num1/num2}, O numero é par,negativo e inteiro\")\n",
    "    elif(resultado % 2 == 1 and resultado < 0 and resultado % 1 == 0):\n",
    "        print(f\"O resultado de {num1} / {num2} = {num1/num2}, O numero é impar,negativo e inteiro\")\n",
    "    elif(resultado > 0 and resultado % 1 != 0):\n",
    "        print(f\"O resultado de {num1} / {num2} = {num1/num2}, O numero é positivo e decimal\")\n",
    "    elif(resultado < 0 and resultado % 1 != 0):\n",
    "        print(f\"O resultado de {num1} / {num2} = {num1/num2}, O numero é negativo e decimal\")\n",
    "    else:\n",
    "        print(\"Numero é natural, inteiro, nao negativo\")\n",
    "  \n",
    "else:\n",
    "    print(\"Operador errado\")\n",
    "\n",
    "\n"
   ]
  },
  {
   "cell_type": "code",
   "execution_count": 236,
   "metadata": {},
   "outputs": [
    {
     "name": "stdout",
     "output_type": "stream",
     "text": [
      "Idade aceita\n"
     ]
    }
   ],
   "source": [
    "idade = int(input(\"Digita a sua idade\"))\n",
    "if idade < 0 or idade > 150:\n",
    "    for i in range(10):\n",
    "        idade = int(input(\"Digite sua idade novamente Boco\"))\n",
    "        if idade < 150 and idade > 0:\n",
    "            print(\"Idade aceita\")\n",
    "            break\n",
    "          \n",
    "\n",
    "else:\n",
    "    print(f\"Voce tem {idade}\")"
   ]
  },
  {
   "cell_type": "code",
   "execution_count": 244,
   "metadata": {},
   "outputs": [
    {
     "name": "stdout",
     "output_type": "stream",
     "text": [
      "30.0\n"
     ]
    }
   ],
   "source": [
    "lista = []\n",
    "soma = 0\n",
    "\n",
    "for i in range(5):\n",
    "    valor = float(input(\"Digite os numeros\"))\n",
    "    lista.append(valor)\n",
    "    soma += lista[i]\n",
    "    \n",
    "\n",
    "total = len(lista)\n",
    "media = soma / total\n",
    "\n",
    "print(f\"A soma das notas = {soma}, e a media é {media}\")\n"
   ]
  },
  {
   "cell_type": "code",
   "execution_count": 10,
   "metadata": {},
   "outputs": [
    {
     "name": "stdout",
     "output_type": "stream",
     "text": [
      "Numero é primo\n"
     ]
    },
    {
     "ename": "",
     "evalue": "",
     "output_type": "error",
     "traceback": [
      "\u001b[1;31mThe Kernel crashed while executing code in the current cell or a previous cell. \n",
      "\u001b[1;31mPlease review the code in the cell(s) to identify a possible cause of the failure. \n",
      "\u001b[1;31mClick <a href='https://aka.ms/vscodeJupyterKernelCrash'>here</a> for more info. \n",
      "\u001b[1;31mView Jupyter <a href='command:jupyter.viewOutput'>log</a> for further details."
     ]
    }
   ],
   "source": [
    "n = 0\n",
    "\n",
    "numero = int(input(\"Digite um numero\"))\n",
    "\n",
    "for i in range(1, numero+1):\n",
    "    if(numero % i == 0):    \n",
    "        n += 1\n",
    "\n",
    "if(n == 2):\n",
    "    print(\"Numero é primo\")\n",
    "\n",
    "else:\n",
    "    print(\"Numero não e primo\")"
   ]
  },
  {
   "cell_type": "code",
   "execution_count": 271,
   "metadata": {},
   "outputs": [
    {
     "name": "stdout",
     "output_type": "stream",
     "text": [
      "150.0\n",
      "O maior valor é 50.0 O menor valor é  10.0\n",
      "A media de temperatura é  30.0\n"
     ]
    },
    {
     "data": {
      "text/plain": [
       "[10.0, 20.0, 30.0, 40.0, 50.0]"
      ]
     },
     "execution_count": 271,
     "metadata": {},
     "output_type": "execute_result"
    }
   ],
   "source": [
    "lista = []\n",
    "soma = 0\n",
    "for i in range(0, 5):\n",
    "    temp = float(input(\"Digite as temperaturas\"))\n",
    "    lista.append(temp)\n",
    "    soma += temp\n",
    "maior = lista[0]\n",
    "menor = lista[0]   \n",
    "for j in range(len(lista)):\n",
    "    for y in range(len(lista)):\n",
    "        if(maior < lista[y]):\n",
    "            maior = lista[y]\n",
    "        if(menor > lista[x]):\n",
    "            menor = lista[y]\n",
    "           ## temp = lista[j]\n",
    "          ##lista[j] = lista[y]\n",
    "          ##  lista[y] = desc \n",
    "\n",
    "valista = len(lista)\n",
    "print(soma)\n",
    "media = soma / valista\n",
    "\n",
    "print(\"O maior valor é\", maior,\"O menor valor é \", menor)\n",
    "print(\"A media de temperatura é \",media)\n",
    "lista\n"
   ]
  },
  {
   "cell_type": "code",
   "execution_count": 275,
   "metadata": {},
   "outputs": [
    {
     "name": "stdout",
     "output_type": "stream",
     "text": [
      "O saldo medio é 210.0 e o valor de credito é 42.0\n"
     ]
    }
   ],
   "source": [
    "saldomedio = float(input(\"Digite o saldo medio\"))\n",
    "total = 0\n",
    "\n",
    "if saldomedio > 0 and saldomedio <= 200:\n",
    "    print(\"Nenhum credito\")\n",
    "elif saldomedio > 200 and saldomedio <= 400:\n",
    "   total = (saldomedio * (20/100)) \n",
    "   print(f\"O saldo medio é {saldomedio} e o valor de credito é {total}\")\n",
    "elif saldomedio > 400 and saldomedio <= 600:\n",
    "    total = (saldomedio * (30/100))\n",
    "    print(f\"O saldo medio é {saldomedio} e o valor de credito é {total}\")\n",
    "elif saldomedio > 600:\n",
    "    total = (saldomedio * (40/100)) \n",
    "    print(f\"O saldo medio é {saldomedio} e o valor de credito é {total}\")"
   ]
  },
  {
   "cell_type": "code",
   "execution_count": 283,
   "metadata": {},
   "outputs": [
    {
     "name": "stdout",
     "output_type": "stream",
     "text": [
      "Seu nome é Saulo Voce precisa de  44\n"
     ]
    }
   ],
   "source": [
    "nomes = []\n",
    "idades = []\n",
    "\n",
    "for i in range(2):\n",
    "    nome = input(\"Digite seu nome\")\n",
    "    idade = int(input(\"Digite sua idade\"))\n",
    "    nomes.append(nome)\n",
    "    idades.append(idade)\n",
    "\n",
    "verificar = input(\"Digite seu nome\")\n",
    "\n",
    "if verificar in nomes:\n",
    "    consultar = nomes.index(verificar)\n",
    "    if idade >= 65:\n",
    "        print(\"Voce já deveria estar aposentado\")\n",
    "    else:\n",
    " \n",
    "        total = 65 - idades[consultar]\n",
    "        ano = total + 2023\n",
    "        print(\"Seu nome é\", nomes[consultar], \"Voce ira se aposentar no ano de  \", ano)\n",
    "\n",
    "    "
   ]
  },
  {
   "cell_type": "code",
   "execution_count": 3,
   "metadata": {},
   "outputs": [
    {
     "name": "stdout",
     "output_type": "stream",
     "text": [
      "34400.0\n",
      "24191.8\n"
     ]
    }
   ],
   "source": [
    "valorHora = float(input(\"Digite o quanto voce ganha por hora\"))\n",
    "horaTrabalhadas = float(input(\"Digite as horas trabalhadas\"))\n",
    "\n",
    "\n",
    "\n",
    "total = horaTrabalhadas * valorHora\n",
    "print(total)\n",
    "liquido = total - (total * 0.03)\n",
    "\n",
    "if liquido <= 2.112:\n",
    "    print(\"Tu é isento\")\n",
    "\n",
    "elif liquido >= 2112 and total <= 2826.65:\n",
    "    desconto = liquido - (liquido * (7.5/100))\n",
    "    print(desconto)\n",
    "elif liquido >= 2826.03 and total <= 3751.05:\n",
    "    desconto = liquido - (liquido * (15/100))\n",
    "    print(desconto)\n",
    "elif liquido >= 2826.03 and total <= 3751.05:\n",
    "    desconto = liquido - (liquido * (22.5/100))\n",
    "    print(desconto)\n",
    "else:\n",
    "    desconto =  liquido - (liquido * (27.5/100))\n",
    "    print(desconto)\n",
    "\n",
    "\n",
    "\n",
    "  "
   ]
  }
 ],
 "metadata": {
  "kernelspec": {
   "display_name": "Python 3",
   "language": "python",
   "name": "python3"
  },
  "language_info": {
   "codemirror_mode": {
    "name": "ipython",
    "version": 3
   },
   "file_extension": ".py",
   "mimetype": "text/x-python",
   "name": "python",
   "nbconvert_exporter": "python",
   "pygments_lexer": "ipython3",
   "version": "3.10.13"
  }
 },
 "nbformat": 4,
 "nbformat_minor": 2
}
