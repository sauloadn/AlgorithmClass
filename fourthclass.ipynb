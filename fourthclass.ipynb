{
 "cells": [
  {
   "cell_type": "code",
   "execution_count": 19,
   "metadata": {},
   "outputs": [
    {
     "name": "stdout",
     "output_type": "stream",
     "text": [
      "Valor 1:  10 \n",
      " Valor 2: 10 \n",
      " Valor 3: 10\n",
      "False\n"
     ]
    },
    {
     "ename": "TypeError",
     "evalue": "'<' not supported between instances of 'int' and 'str'",
     "output_type": "error",
     "traceback": [
      "\u001b[1;31m---------------------------------------------------------------------------\u001b[0m",
      "\u001b[1;31mTypeError\u001b[0m                                 Traceback (most recent call last)",
      "Cell \u001b[1;32mIn[19], line 9\u001b[0m\n\u001b[0;32m      6\u001b[0m \u001b[38;5;28mprint\u001b[39m(\u001b[38;5;124m\"\u001b[39m\u001b[38;5;124mValor 1: \u001b[39m\u001b[38;5;124m\"\u001b[39m, numero,\u001b[38;5;124m\"\u001b[39m\u001b[38;5;130;01m\\n\u001b[39;00m\u001b[38;5;124m Valor 2:\u001b[39m\u001b[38;5;124m\"\u001b[39m, numero1, \u001b[38;5;124m\"\u001b[39m\u001b[38;5;130;01m\\n\u001b[39;00m\u001b[38;5;124m Valor 3:\u001b[39m\u001b[38;5;124m\"\u001b[39m, numero2)\n\u001b[0;32m      8\u001b[0m \u001b[38;5;28mprint\u001b[39m(numero \u001b[38;5;241m>\u001b[39m numero1)\n\u001b[1;32m----> 9\u001b[0m \u001b[38;5;28mprint\u001b[39m(\u001b[43mnumero1\u001b[49m\u001b[43m \u001b[49m\u001b[38;5;241;43m<\u001b[39;49m\u001b[43m \u001b[49m\u001b[43mnumero2\u001b[49m)\n\u001b[0;32m     10\u001b[0m \u001b[38;5;28mprint\u001b[39m(numero \u001b[38;5;241m==\u001b[39m numero1 \u001b[38;5;241m&\u001b[39m numero2 \u001b[38;5;241m==\u001b[39m numero1)\n\u001b[0;32m     11\u001b[0m \u001b[38;5;28mprint\u001b[39m(numero1 \u001b[38;5;241m==\u001b[39m numero)\n",
      "\u001b[1;31mTypeError\u001b[0m: '<' not supported between instances of 'int' and 'str'"
     ]
    }
   ],
   "source": [
    "\n",
    "\n",
    "numero = int(input(\"NUMERO 1 KRAI\"))\n",
    "numero1 = int(input(\"NUMERO 2 POURA\"))\n",
    "numero2 = input(\"NUMERO 3 - --- - -- -- --\")\n",
    "\n",
    "\n",
    "print(\"Valor 1: \", numero,\"\\n Valor 2:\", numero1, \"\\n Valor 3:\", numero2)\n",
    "\n",
    "print(numero > numero1)\n",
    "print(numero1 < numero2)\n",
    "print(numero == numero1 & numero2 == numero1)\n",
    "print(numero1 == numero)\n",
    "print(numero == numero1 or numero1 == numero2)\n",
    "print(numero == numero1 and numero2 == numero1)\n",
    "\n",
    "numero = 10\n",
    "\n",
    "print(numero > 0 and numero <10)\n",
    "print(numero>0 or numero <10)\n",
    "\n",
    "if(numero == 10):\n",
    "    print(\"True\")\n",
    "else:\n",
    "    print(\"False\")\n",
    "\n"
   ]
  },
  {
   "cell_type": "code",
   "execution_count": 20,
   "metadata": {},
   "outputs": [
    {
     "name": "stdout",
     "output_type": "stream",
     "text": [
      "True\n"
     ]
    }
   ],
   "source": [
    "numero = 10\n",
    "\n",
    "if numero > 0 and numero <= 10:\n",
    "    print(True)\n",
    "elif numero> 3 and numero <= 5:\n",
    "    print(False)\n",
    "else:\n",
    "    print(\"FALTA\")\n"
   ]
  },
  {
   "cell_type": "code",
   "execution_count": 21,
   "metadata": {},
   "outputs": [
    {
     "name": "stdout",
     "output_type": "stream",
     "text": [
      "Impar\n"
     ]
    }
   ],
   "source": [
    "numero = int(input(\"Digite o numero\"))\n",
    "\n",
    "if(numero % 2 == 0 ):\n",
    "    print(\"Par: \", numero)\n",
    "else:\n",
    "    print(\"Impar\")"
   ]
  },
  {
   "cell_type": "code",
   "execution_count": 26,
   "metadata": {},
   "outputs": [
    {
     "name": "stdout",
     "output_type": "stream",
     "text": [
      "15% Desconto\n",
      "Valor total do produto é 68.0\n"
     ]
    }
   ],
   "source": [
    "cupom = input(\"Digite o cupom\")\n",
    "valorproduto = 80\n",
    "\n",
    "if(cupom == 'aula1') or (cupom == 'aula2'):\n",
    "    print(\"15% Desconto\")\n",
    "    valorcupom = 15\n",
    "    desconto = valorcupom/100 * valorproduto\n",
    "    valortotal = valorproduto - desconto \n",
    "    \n",
    "\n",
    "    print(\"Valor total do produto é\", valortotal)\n",
    "elif (cupom == 'aula3') or (cupom == 'aula4'):\n",
    "    print(\"Cupom 23%\")\n",
    "    valorcupom = 23\n",
    "    desconto = valorcupom/100 * valorproduto\n",
    "    valortotal = valorproduto - desconto\n",
    "else:\n",
    "    print(\"Senão, aplicar 5%\")\n",
    "    valorcupom = 5\n",
    "    desconto = valorcupom/100 * valorproduto\n",
    "    valortotal = valorproduto - desconto\n",
    "    print(\"Valor total do produto:\", valortotal)\n",
    "\n"
   ]
  },
  {
   "cell_type": "markdown",
   "metadata": {},
   "source": [
    "\n"
   ]
  }
 ],
 "metadata": {
  "kernelspec": {
   "display_name": "Python 3",
   "language": "python",
   "name": "python3"
  },
  "language_info": {
   "codemirror_mode": {
    "name": "ipython",
    "version": 3
   },
   "file_extension": ".py",
   "mimetype": "text/x-python",
   "name": "python",
   "nbconvert_exporter": "python",
   "pygments_lexer": "ipython3",
   "version": "3.12.2"
  }
 },
 "nbformat": 4,
 "nbformat_minor": 2
}
