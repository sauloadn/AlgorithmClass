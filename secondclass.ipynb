{
 "cells": [
  {
   "cell_type": "code",
   "execution_count": 2,
   "metadata": {},
   "outputs": [
    {
     "name": "stdout",
     "output_type": "stream",
     "text": [
      "HellO World\n"
     ]
    }
   ],
   "source": [
    "print(\"HellO World\")\n",
    "##Variables\n"
   ]
  },
  {
   "cell_type": "code",
   "execution_count": 8,
   "metadata": {},
   "outputs": [
    {
     "name": "stdout",
     "output_type": "stream",
     "text": [
      "Ola, Saulo\n"
     ]
    }
   ],
   "source": [
    " nome = 'Saulo' #Variavel de Nome\n"
   ]
  },
  {
   "cell_type": "code",
   "execution_count": 3,
   "metadata": {},
   "outputs": [
    {
     "name": "stdout",
     "output_type": "stream",
     "text": [
      "20\n"
     ]
    }
   ],
   "source": [
    "idade = 20\n",
    "print(idade)"
   ]
  },
  {
   "cell_type": "code",
   "execution_count": 13,
   "metadata": {},
   "outputs": [
    {
     "name": "stdout",
     "output_type": "stream",
     "text": [
      "Ola, Saulo \n",
      "Sua Idade é: 20\n"
     ]
    }
   ],
   "source": [
    "print(\"Ola,\", nome, \"\\nSua Idade é:\", idade)"
   ]
  },
  {
   "cell_type": "code",
   "execution_count": 20,
   "metadata": {},
   "outputs": [
    {
     "name": "stdout",
     "output_type": "stream",
     "text": [
      "Meu nome é: Saulo \n",
      "Idade é: 23 \n",
      "Altura é: 1.78\n"
     ]
    }
   ],
   "source": [
    "pessoa = \"Saulo\" \n",
    "idade = 23 \n",
    "altura = 1.78\n",
    "desenvolvedor = True\n",
    "\n",
    "print(\"Meu nome é:\",pessoa, \"\\nIdade é:\", idade,\"\\nAltura é:\",altura)"
   ]
  }
 ],
 "metadata": {
  "kernelspec": {
   "display_name": "Python 3",
   "language": "python",
   "name": "python3"
  },
  "language_info": {
   "codemirror_mode": {
    "name": "ipython",
    "version": 3
   },
   "file_extension": ".py",
   "mimetype": "text/x-python",
   "name": "python",
   "nbconvert_exporter": "python",
   "pygments_lexer": "ipython3",
   "version": "3.12.2"
  }
 },
 "nbformat": 4,
 "nbformat_minor": 2
}
