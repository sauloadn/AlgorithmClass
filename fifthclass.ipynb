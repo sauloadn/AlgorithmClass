{
 "cells": [
  {
   "cell_type": "code",
   "execution_count": 2,
   "metadata": {},
   "outputs": [
    {
     "name": "stdout",
     "output_type": "stream",
     "text": [
      "Media = 10.0\n"
     ]
    }
   ],
   "source": [
    "n = 0\n",
    "nota1 = float(input(\"Digite primeira nota\"))\n",
    "n += 1\n",
    "nota2 = float(input(\"Digite a segunda nota\"))\n",
    "n += 1\n",
    "nota3 = float(input(\"Digite a terceira nota\"))\n",
    "n += 1\n",
    "\n",
    "media = (nota1 + nota2+ nota3) / n\n",
    "\n",
    "print(\"Media =\", media)\n",
    "\n",
    "\n",
    "\n",
    "\n"
   ]
  },
  {
   "cell_type": "code",
   "execution_count": 4,
   "metadata": {},
   "outputs": [
    {
     "name": "stdout",
     "output_type": "stream",
     "text": [
      "Seu salario é  46080.0\n"
     ]
    }
   ],
   "source": [
    "valor = float(input(\"Quanto voce ganha por hora\"))\n",
    "horast = int(input(\"Horas trabalhada\"))\n",
    "\n",
    "salario = valor * horast\n",
    "\n",
    "print(\"Seu salario é \", salario)"
   ]
  },
  {
   "cell_type": "code",
   "execution_count": 7,
   "metadata": {},
   "outputs": [
    {
     "name": "stdout",
     "output_type": "stream",
     "text": [
      "Valor do excesso é  0.5\n",
      "O valor da multa é  2.0\n"
     ]
    }
   ],
   "source": [
    "#Valor do peixe \n",
    "peixe = float(input(\"Peso em kilo do peixe\"))\n",
    "#Multa\n",
    "\n",
    "if peixe > 50:\n",
    "    #Valor do Excesso\n",
    "    exc = peixe - 50\n",
    "    #Multa\n",
    "    multa = exc* 4\n",
    "    print(\"Valor do excesso é \", exc)\n",
    "    print(\"O valor da multa é \",  multa)\n",
    "else:\n",
    "    #Se voce nao tiver multa\n",
    "    print(\"Voce nao paga multa\")\n",
    "\n"
   ]
  }
 ],
 "metadata": {
  "kernelspec": {
   "display_name": "Python 3",
   "language": "python",
   "name": "python3"
  },
  "language_info": {
   "codemirror_mode": {
    "name": "ipython",
    "version": 3
   },
   "file_extension": ".py",
   "mimetype": "text/x-python",
   "name": "python",
   "nbconvert_exporter": "python",
   "pygments_lexer": "ipython3",
   "version": "3.12.2"
  }
 },
 "nbformat": 4,
 "nbformat_minor": 2
}
